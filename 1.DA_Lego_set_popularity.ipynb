{
 "cells": [
  {
   "cell_type": "markdown",
   "id": "193987a0-63bd-4ee9-a80f-cdecd57c93e6",
   "metadata": {
    "dc": {
     "key": "1d0b086e6c"
    },
    "run_control": {
     "frozen": true
    },
    "tags": [
     "context"
    ]
   },
   "source": [
    "## 1. Introduction\n",
    "<p>Everyone loves Lego (unless you ever stepped on one). Did you know by the way that \"Lego\" was derived from the Danish phrase leg godt, which means \"play well\"? Unless you speak Danish, probably not. </p>\n",
    "<p>In this project, we will analyze a fascinating dataset on every single Lego block that has ever been built!</p>\n",
    "<p><img src=\"https://s3.amazonaws.com/assets.datacamp.com/production/project_10/datasets/lego-bricks.jpeg\" alt=\"lego\"></p>"
   ]
  },
  {
   "cell_type": "markdown",
   "id": "b1f71b4a",
   "metadata": {},
   "source": [
    "## 2. Beginner level Data Analysis"
   ]
  },
  {
   "cell_type": "markdown",
   "id": "3446ec8a",
   "metadata": {},
   "source": [
    "### 1. Number of colors available for Lego game sets \n",
    "<p>Let us start by reading in the colors data to get a sense of the diversity of Lego sets</p>"
   ]
  },
  {
   "cell_type": "code",
   "execution_count": 1,
   "id": "278f3238-e17f-41e2-ae47-1f668c68cf1a",
   "metadata": {
    "dc": {
     "key": "044b2cef41"
    },
    "executionTime": 49,
    "lastSuccessfullyExecutedCode": "# Import pandas\n# -- YOUR CODE FOR TASK 3 --\nimport pandas as pd\n# Read colors data\ncolors=pd.read_csv('datasets/colors.csv')\n\n# Print the first few rows\ncolors.head(5)",
    "tags": [
     "sample_code"
    ]
   },
   "outputs": [
    {
     "data": {
      "text/html": [
       "<div>\n",
       "<style scoped>\n",
       "    .dataframe tbody tr th:only-of-type {\n",
       "        vertical-align: middle;\n",
       "    }\n",
       "\n",
       "    .dataframe tbody tr th {\n",
       "        vertical-align: top;\n",
       "    }\n",
       "\n",
       "    .dataframe thead th {\n",
       "        text-align: right;\n",
       "    }\n",
       "</style>\n",
       "<table border=\"1\" class=\"dataframe\">\n",
       "  <thead>\n",
       "    <tr style=\"text-align: right;\">\n",
       "      <th></th>\n",
       "      <th>id</th>\n",
       "      <th>name</th>\n",
       "      <th>rgb</th>\n",
       "      <th>is_trans</th>\n",
       "    </tr>\n",
       "  </thead>\n",
       "  <tbody>\n",
       "    <tr>\n",
       "      <th>0</th>\n",
       "      <td>-1</td>\n",
       "      <td>Unknown</td>\n",
       "      <td>0033B2</td>\n",
       "      <td>f</td>\n",
       "    </tr>\n",
       "    <tr>\n",
       "      <th>1</th>\n",
       "      <td>0</td>\n",
       "      <td>Black</td>\n",
       "      <td>05131D</td>\n",
       "      <td>f</td>\n",
       "    </tr>\n",
       "    <tr>\n",
       "      <th>2</th>\n",
       "      <td>1</td>\n",
       "      <td>Blue</td>\n",
       "      <td>0055BF</td>\n",
       "      <td>f</td>\n",
       "    </tr>\n",
       "    <tr>\n",
       "      <th>3</th>\n",
       "      <td>2</td>\n",
       "      <td>Green</td>\n",
       "      <td>237841</td>\n",
       "      <td>f</td>\n",
       "    </tr>\n",
       "    <tr>\n",
       "      <th>4</th>\n",
       "      <td>3</td>\n",
       "      <td>Dark Turquoise</td>\n",
       "      <td>008F9B</td>\n",
       "      <td>f</td>\n",
       "    </tr>\n",
       "  </tbody>\n",
       "</table>\n",
       "</div>"
      ],
      "text/plain": [
       "   id            name     rgb is_trans\n",
       "0  -1         Unknown  0033B2        f\n",
       "1   0           Black  05131D        f\n",
       "2   1            Blue  0055BF        f\n",
       "3   2           Green  237841        f\n",
       "4   3  Dark Turquoise  008F9B        f"
      ]
     },
     "execution_count": 1,
     "metadata": {},
     "output_type": "execute_result"
    }
   ],
   "source": [
    "# Import pandas\n",
    "import pandas as pd\n",
    "\n",
    "# Read colors data\n",
    "colors=pd.read_csv('datasets/colors.csv')\n",
    "\n",
    "# Print the first few rows\n",
    "colors.head()"
   ]
  },
  {
   "cell_type": "markdown",
   "id": "f8101d94-5dcf-4010-8169-214b7df7040f",
   "metadata": {
    "dc": {
     "key": "15c1e2ce38"
    },
    "run_control": {
     "frozen": true
    },
    "tags": [
     "context"
    ]
   },
   "source": [
    "<p>Now that we have read the <code>colors</code> data, we can start exploring it!</p>"
   ]
  },
  {
   "cell_type": "code",
   "execution_count": 9,
   "id": "331e1a5d-c3ab-4a59-a72f-699b05bf6862",
   "metadata": {
    "dc": {
     "key": "15c1e2ce38"
    },
    "executionTime": 29,
    "lastSuccessfullyExecutedCode": "# How many distinct colors are available?\n# -- YOUR CODE FOR TASK 3 --\nnum_colors=colors.rgb.size\n# Print num_colors\nprint('Numbers of distinct colors :',num_colors)",
    "tags": [
     "sample_code"
    ]
   },
   "outputs": [
    {
     "name": "stdout",
     "output_type": "stream",
     "text": [
      "135\n"
     ]
    }
   ],
   "source": [
    "# How many distinct colors are available?\n",
    "num_colors = colors.rgb.size\n",
    "# Print num_colors\n",
    "print(num_colors)"
   ]
  },
  {
   "cell_type": "markdown",
   "id": "48360dc3",
   "metadata": {},
   "source": [
    "<p> There are 135 distinct colors available for Lego sets.</p>"
   ]
  },
  {
   "cell_type": "markdown",
   "id": "4b69c74a-bdd9-42d4-a438-c40165facb98",
   "metadata": {
    "dc": {
     "key": "a5723ae5c2"
    },
    "run_control": {
     "frozen": true
    },
    "tags": [
     "context"
    ]
   },
   "source": [
    "### 2. Distribution colors based on color transparency in Lego Sets\n",
    "<p>The <code>colors</code> data has a column named <code>is_trans</code> that indicates whether a color is transparent or not. It would be interesting to explore the distribution of transparent vs. non-transparent colors.</p>"
   ]
  },
  {
   "cell_type": "code",
   "execution_count": 17,
   "id": "ff30f712-1686-45f5-a0d4-fcebee415168",
   "metadata": {
    "dc": {
     "key": "a5723ae5c2"
    },
    "executionTime": 31,
    "lastSuccessfullyExecutedCode": "# colors_summary: Distribution of colors based on transparency\n# -- YOUR CODE FOR TASK 4 --\ncolors_summary=colors.groupby(\"is_trans\")[[\"id\",\"name\",\"rgb\"]].count()\nprint(colors_summary)",
    "tags": [
     "sample_code"
    ]
   },
   "outputs": [
    {
     "name": "stdout",
     "output_type": "stream",
     "text": [
      "           id  name  rgb\n",
      "is_trans                \n",
      "f         107   107  107\n",
      "t          28    28   28\n"
     ]
    }
   ],
   "source": [
    "# Distribution of colors based on transparency\n",
    "colors_summary=colors.groupby(\"is_trans\")[[\"id\",\"name\",\"rgb\"]].count()\n",
    "print(colors_summary)"
   ]
  },
  {
   "cell_type": "markdown",
   "id": "91a03f7d-ae41-4c63-8053-ffb4a5bb37c8",
   "metadata": {
    "dc": {
     "key": "c9d0e58653"
    },
    "run_control": {
     "frozen": true
    },
    "tags": [
     "context"
    ]
   },
   "source": [
    "### 3. Variation in average number of lego parts per year\n",
    "<p>Another interesting dataset available is the <code>sets</code> data. Let's explore it.</p>"
   ]
  },
  {
   "cell_type": "code",
   "execution_count": 11,
   "id": "1686621f",
   "metadata": {},
   "outputs": [
    {
     "data": {
      "text/html": [
       "<div>\n",
       "<style scoped>\n",
       "    .dataframe tbody tr th:only-of-type {\n",
       "        vertical-align: middle;\n",
       "    }\n",
       "\n",
       "    .dataframe tbody tr th {\n",
       "        vertical-align: top;\n",
       "    }\n",
       "\n",
       "    .dataframe thead th {\n",
       "        text-align: right;\n",
       "    }\n",
       "</style>\n",
       "<table border=\"1\" class=\"dataframe\">\n",
       "  <thead>\n",
       "    <tr style=\"text-align: right;\">\n",
       "      <th></th>\n",
       "      <th>set_num</th>\n",
       "      <th>name</th>\n",
       "      <th>year</th>\n",
       "      <th>theme_id</th>\n",
       "      <th>num_parts</th>\n",
       "    </tr>\n",
       "  </thead>\n",
       "  <tbody>\n",
       "    <tr>\n",
       "      <th>0</th>\n",
       "      <td>00-1</td>\n",
       "      <td>Weetabix Castle</td>\n",
       "      <td>1970</td>\n",
       "      <td>414</td>\n",
       "      <td>471</td>\n",
       "    </tr>\n",
       "    <tr>\n",
       "      <th>1</th>\n",
       "      <td>0011-2</td>\n",
       "      <td>Town Mini-Figures</td>\n",
       "      <td>1978</td>\n",
       "      <td>84</td>\n",
       "      <td>12</td>\n",
       "    </tr>\n",
       "    <tr>\n",
       "      <th>2</th>\n",
       "      <td>0011-3</td>\n",
       "      <td>Castle 2 for 1 Bonus Offer</td>\n",
       "      <td>1987</td>\n",
       "      <td>199</td>\n",
       "      <td>2</td>\n",
       "    </tr>\n",
       "    <tr>\n",
       "      <th>3</th>\n",
       "      <td>0012-1</td>\n",
       "      <td>Space Mini-Figures</td>\n",
       "      <td>1979</td>\n",
       "      <td>143</td>\n",
       "      <td>12</td>\n",
       "    </tr>\n",
       "    <tr>\n",
       "      <th>4</th>\n",
       "      <td>0013-1</td>\n",
       "      <td>Space Mini-Figures</td>\n",
       "      <td>1979</td>\n",
       "      <td>143</td>\n",
       "      <td>12</td>\n",
       "    </tr>\n",
       "  </tbody>\n",
       "</table>\n",
       "</div>"
      ],
      "text/plain": [
       "  set_num                        name  year  theme_id  num_parts\n",
       "0    00-1             Weetabix Castle  1970       414        471\n",
       "1  0011-2           Town Mini-Figures  1978        84         12\n",
       "2  0011-3  Castle 2 for 1 Bonus Offer  1987       199          2\n",
       "3  0012-1          Space Mini-Figures  1979       143         12\n",
       "4  0013-1          Space Mini-Figures  1979       143         12"
      ]
     },
     "execution_count": 11,
     "metadata": {},
     "output_type": "execute_result"
    }
   ],
   "source": [
    "# Read sets data\n",
    "sets=pd.read_csv('datasets/sets.csv')\n",
    "\n",
    "# Print the first few rows\n",
    "sets.head()"
   ]
  },
  {
   "cell_type": "markdown",
   "id": "a915484a",
   "metadata": {},
   "source": [
    "<p>It contains a comprehensive list of sets over the years and the number of parts that each of these sets contained. Let us use this data to explore how the average number of parts in Lego sets has varied over the years.</p>"
   ]
  },
  {
   "cell_type": "code",
   "execution_count": 41,
   "id": "9fbbb393-ae6c-44c8-a407-0f19b7be9c5c",
   "metadata": {
    "dc": {
     "key": "c9d0e58653"
    },
    "executionTime": 687,
    "lastSuccessfullyExecutedCode": "%matplotlib inline\n# Read sets data as `sets`\nsets=pd.read_csv('datasets/sets.csv')\n\n# Create a summary of average number of parts by year: `parts_by_year`\nparts_by_year=sets.groupby(\"year\")[[\"num_parts\"]].mean().round(2)\nprint(parts_by_year.head(6))\n# Plot trends in average number of parts by year\nparts_by_year.plot(kind='bar')\n",
    "tags": [
     "sample_code"
    ]
   },
   "outputs": [
    {
     "name": "stdout",
     "output_type": "stream",
     "text": [
      "      num_parts\n",
      "year           \n",
      "1950      10.14\n",
      "1953      16.50\n",
      "1954      12.36\n",
      "1955      36.86\n",
      "1956      18.50\n"
     ]
    },
    {
     "data": {
      "text/plain": [
       "<AxesSubplot:xlabel='year'>"
      ]
     },
     "execution_count": 41,
     "metadata": {},
     "output_type": "execute_result"
    },
    {
     "data": {
      "image/png": "[encoded data removed]",
      "text/plain": [
       "<Figure size 1080x576 with 1 Axes>"
      ]
     },
     "metadata": {
      "needs_background": "light"
     },
     "output_type": "display_data"
    }
   ],
   "source": [
    "%matplotlib inline\n",
    "\n",
    "# Create a summary of average number of parts by year: `parts_by_year`\n",
    "parts_by_year=sets.groupby(\"year\")[[\"num_parts\"]].mean().round(2)\n",
    "print(parts_by_year.head())\n",
    "\n",
    "# Plot trends in average number of parts by year\n",
    "parts_by_year.plot(kind='bar',figsize=(15,8))\n"
   ]
  },
  {
   "cell_type": "markdown",
   "id": "d85f0963",
   "metadata": {},
   "source": [
    "<p> Overall an average number of parts in each set has incresed over years. </p>"
   ]
  },
  {
   "cell_type": "markdown",
   "id": "5d0e0fc3-da4b-4d62-b235-7d8bdb5138c4",
   "metadata": {
    "dc": {
     "key": "266a3f390c"
    },
    "run_control": {
     "frozen": true
    },
    "tags": [
     "context"
    ]
   },
   "source": [
    "### 4. (4.1) Lego Themes Over Years\n",
    "<p>Lego blocks ship under multiple <a href=\"https://shop.lego.com/en-US/Themes\">themes</a>. Let us try to get a sense of how the number of themes shipped has varied over the years.</p>"
   ]
  },
  {
   "cell_type": "code",
   "execution_count": 18,
   "id": "58236ef6-a27c-4e4f-8089-de17d205cdb6",
   "metadata": {
    "dc": {
     "key": "266a3f390c"
    },
    "executionTime": 31,
    "lastSuccessfullyExecutedCode": "# themes_by_year: Number of themes shipped by year\n# -- YOUR CODE HERE --\nthemes_by_year=sets.groupby(\"year\")[[\"theme_id\"]].nunique()\nprint(themes_by_year.head(6))",
    "tags": [
     "sample_code"
    ]
   },
   "outputs": [
    {
     "name": "stdout",
     "output_type": "stream",
     "text": [
      "      theme_id\n",
      "year          \n",
      "1950         2\n",
      "1953         1\n",
      "1954         2\n",
      "1955         4\n",
      "1956         3\n",
      "1957         4\n",
      "1958         3\n",
      "1959         3\n",
      "1960         3\n",
      "1961         6\n"
     ]
    }
   ],
   "source": [
    "# themes_by_year: Number of themes shipped by year\n",
    "themes_by_year=sets.groupby(\"year\")[[\"theme_id\"]].nunique()\n",
    "print(themes_by_year.head(10))"
   ]
  },
  {
   "cell_type": "code",
   "execution_count": 36,
   "id": "011e8740",
   "metadata": {},
   "outputs": [
    {
     "data": {
      "text/plain": [
       "<AxesSubplot:xlabel='year'>"
      ]
     },
     "execution_count": 36,
     "metadata": {},
     "output_type": "execute_result"
    },
    {
     "data": {
      "image/png": "[encoded data removed]",
      "text/plain": [
       "<Figure size 1080x504 with 1 Axes>"
      ]
     },
     "metadata": {
      "needs_background": "light"
     },
     "output_type": "display_data"
    }
   ],
   "source": [
    "themes_by_year.plot(kind='bar',figsize=(15,7))"
   ]
  },
  {
   "cell_type": "markdown",
   "id": "4bb26f0f",
   "metadata": {},
   "source": [
    "#### \n",
    "<p> Interesting! Lego blocks offer an unlimited amount of fun across ages. </p>"
   ]
  },
  {
   "cell_type": "markdown",
   "id": "05f07a47-2593-4e99-95f1-9b91d4438281",
   "metadata": {
    "dc": {
     "key": "a293e5076e"
    },
    "run_control": {
     "frozen": true
    },
    "tags": [
     "context"
    ]
   },
   "source": [
    "###    (4.2) Unique number of themes for specific year\n",
    "<p>Let's take a closer look at the <code>themes_by_year</code> DataFrame that is created in the previous step to find out unique themes released in year 1999</p>"
   ]
  },
  {
   "cell_type": "code",
   "execution_count": 19,
   "id": "52c3a585-017a-4a46-9dea-a0a223d2ab8f",
   "metadata": {
    "dc": {
     "key": "a293e5076e"
    },
    "executionTime": 22,
    "lastSuccessfullyExecutedCode": "# Get the number of unique themes released in 1999\nnum_themes= themes_by_year.loc[1999,\"theme_id\"]\n\n# Print the number of unique themes released in 1999\nprint('Unique themes released in year 1999:',num_themes)",
    "tags": [
     "sample_code"
    ]
   },
   "outputs": [
    {
     "name": "stdout",
     "output_type": "stream",
     "text": [
      "71\n"
     ]
    }
   ],
   "source": [
    "# Get the number of unique themes released in 1999\n",
    "num_themes= themes_by_year.loc[1999,\"theme_id\"]\n",
    "\n",
    "# Print the number of unique themes released in 1999\n",
    "print(num_themes)"
   ]
  },
  {
   "cell_type": "markdown",
   "id": "58c96ce2",
   "metadata": {},
   "source": [
    "<p> There are 71 Unique themes released in year 1999."
   ]
  },
  {
   "cell_type": "markdown",
   "id": "bbf1532e",
   "metadata": {},
   "source": [
    "<p> We explored some interesting trends around colors, parts, and themes. </p>"
   ]
  },
  {
   "cell_type": "code",
   "execution_count": null,
   "id": "d1029f22",
   "metadata": {},
   "outputs": [],
   "source": []
  }
 ],
 "metadata": {
  "editor": "DataCamp Workspace",
  "kernelspec": {
   "display_name": "Python 3 (ipykernel)",
   "language": "python",
   "name": "python3"
  },
  "language_info": {
   "codemirror_mode": {
    "name": "ipython",
    "version": 3
   },
   "file_extension": ".py",
   "mimetype": "text/x-python",
   "name": "python",
   "nbconvert_exporter": "python",
   "pygments_lexer": "ipython3",
   "version": "3.9.12"
  }
 },
 "nbformat": 4,
 "nbformat_minor": 5
}
